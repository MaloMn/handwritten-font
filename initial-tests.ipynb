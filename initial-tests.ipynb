{
 "cells": [
  {
   "cell_type": "code",
   "execution_count": 1,
   "outputs": [
    {
     "ename": "ModuleNotFoundError",
     "evalue": "No module named 'cv2'",
     "output_type": "error",
     "traceback": [
      "\u001B[0;31m---------------------------------------------------------------------------\u001B[0m",
      "\u001B[0;31mModuleNotFoundError\u001B[0m                       Traceback (most recent call last)",
      "Input \u001B[0;32mIn [1]\u001B[0m, in \u001B[0;36m<cell line: 1>\u001B[0;34m()\u001B[0m\n\u001B[0;32m----> 1\u001B[0m \u001B[38;5;28;01mimport\u001B[39;00m \u001B[38;5;21;01mcv2\u001B[39;00m\n\u001B[1;32m      3\u001B[0m img \u001B[38;5;241m=\u001B[39m cv2\u001B[38;5;241m.\u001B[39mimread(\u001B[38;5;124m'\u001B[39m\u001B[38;5;124mtest.png\u001B[39m\u001B[38;5;124m'\u001B[39m, \u001B[38;5;241m0\u001B[39m)\n\u001B[1;32m      4\u001B[0m ret, th \u001B[38;5;241m=\u001B[39m cv2\u001B[38;5;241m.\u001B[39mthreshold(img, \u001B[38;5;241m0\u001B[39m, \u001B[38;5;241m255\u001B[39m, cv2\u001B[38;5;241m.\u001B[39mTHRESH_BINARY \u001B[38;5;241m+\u001B[39m cv2\u001B[38;5;241m.\u001B[39mTHRESH_OTSU)\n",
      "\u001B[0;31mModuleNotFoundError\u001B[0m: No module named 'cv2'"
     ]
    }
   ],
   "source": [
    "import cv2\n",
    "\n",
    "img = cv2.imread('test.png', 0)\n",
    "ret, th = cv2.threshold(img, 0, 255, cv2.THRESH_BINARY + cv2.THRESH_OTSU)\n",
    "\n",
    "cv2.imwrite('binarized.png', th)"
   ],
   "metadata": {
    "collapsed": false
   }
  },
  {
   "cell_type": "code",
   "execution_count": null,
   "outputs": [],
   "source": [
    "from skimage import img_as_bool, io, color, morphology\n",
    "import matplotlib.pyplot as plt\n",
    "\n",
    "image = img_as_bool(color.rgb2gray(io.imread('CIBUv.png')))\n",
    "out = morphology.medial_axis(image)\n",
    "\n",
    "f, (ax0, ax1) = plt.subplots(1, 2)\n",
    "ax0.imshow(image, cmap='gray', interpolation='nearest')\n",
    "ax1.imshow(out, cmap='gray', interpolation='nearest')\n",
    "plt.show()"
   ],
   "metadata": {
    "collapsed": false
   }
  }
 ],
 "metadata": {
  "kernelspec": {
   "display_name": "Python 3",
   "language": "python",
   "name": "python3"
  },
  "language_info": {
   "codemirror_mode": {
    "name": "ipython",
    "version": 2
   },
   "file_extension": ".py",
   "mimetype": "text/x-python",
   "name": "python",
   "nbconvert_exporter": "python",
   "pygments_lexer": "ipython2",
   "version": "2.7.6"
  }
 },
 "nbformat": 4,
 "nbformat_minor": 0
}
